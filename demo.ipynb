{
  "nbformat": 4,
  "nbformat_minor": 0,
  "metadata": {
    "colab": {
      "name": "[KUBIG] 자기소개서 생성기.ipynb",
      "provenance": [],
      "collapsed_sections": [
        "FL8HdLuUHm17"
      ]
    },
    "kernelspec": {
      "name": "python3",
      "display_name": "Python 3"
    },
    "language_info": {
      "name": "python"
    }
  },
  "cells": [
    {
      "cell_type": "markdown",
      "metadata": {
        "id": "R2jAvftEIAS-"
      },
      "source": [
        "#**📚 📝 자기소개서 생성기 📊 🔍**\n",
        "---\n",
        "*KUBIG NLP 생성 2팀* _ 기다연, 전지우, 이현규"
      ]
    },
    {
      "cell_type": "markdown",
      "metadata": {
        "id": "FL8HdLuUHm17"
      },
      "source": [
        "###**✅ 준비 과정으로써 아래 코드를 모두 돌려주세요 !**\n",
        "  \n",
        "⬇️ 괄호 사이의 재생 버튼을 눌러주세요 !"
      ]
    },
    {
      "cell_type": "code",
      "metadata": {
        "id": "5j1F-KmxGFpC",
        "colab": {
          "base_uri": "https://localhost:8080/"
        },
        "outputId": "ec05b6f8-89fb-4f89-93be-d31a5028a72a"
      },
      "source": [
        "!pip install transformers\n",
        "import os\n",
        "import pandas as pd\n",
        "import numpy as np\n",
        "import random\n",
        "import re\n",
        "\n",
        "import torch\n",
        "from torch.utils.data import Dataset, DataLoader, random_split, RandomSampler, SequentialSampler\n",
        "torch.manual_seed(42)\n",
        "\n",
        "from transformers import GPT2LMHeadModel,  GPT2Tokenizer, GPT2Config, GPT2LMHeadModel, BertTokenizerFast\n",
        "from transformers import AdamW, get_linear_schedule_with_warmup\n",
        "\n",
        "import nltk\n",
        "nltk.download('punkt')"
      ],
      "execution_count": null,
      "outputs": [
        {
          "output_type": "stream",
          "name": "stdout",
          "text": [
            "Requirement already satisfied: transformers in /usr/local/lib/python3.7/dist-packages (4.10.0)\n",
            "Requirement already satisfied: regex!=2019.12.17 in /usr/local/lib/python3.7/dist-packages (from transformers) (2019.12.20)\n",
            "Requirement already satisfied: filelock in /usr/local/lib/python3.7/dist-packages (from transformers) (3.0.12)\n",
            "Requirement already satisfied: packaging in /usr/local/lib/python3.7/dist-packages (from transformers) (21.0)\n",
            "Requirement already satisfied: importlib-metadata in /usr/local/lib/python3.7/dist-packages (from transformers) (4.6.4)\n",
            "Requirement already satisfied: huggingface-hub>=0.0.12 in /usr/local/lib/python3.7/dist-packages (from transformers) (0.0.16)\n",
            "Requirement already satisfied: tqdm>=4.27 in /usr/local/lib/python3.7/dist-packages (from transformers) (4.62.0)\n",
            "Requirement already satisfied: requests in /usr/local/lib/python3.7/dist-packages (from transformers) (2.23.0)\n",
            "Requirement already satisfied: pyyaml>=5.1 in /usr/local/lib/python3.7/dist-packages (from transformers) (5.4.1)\n",
            "Requirement already satisfied: sacremoses in /usr/local/lib/python3.7/dist-packages (from transformers) (0.0.45)\n",
            "Requirement already satisfied: numpy>=1.17 in /usr/local/lib/python3.7/dist-packages (from transformers) (1.19.5)\n",
            "Requirement already satisfied: tokenizers<0.11,>=0.10.1 in /usr/local/lib/python3.7/dist-packages (from transformers) (0.10.3)\n",
            "Requirement already satisfied: typing-extensions in /usr/local/lib/python3.7/dist-packages (from huggingface-hub>=0.0.12->transformers) (3.7.4.3)\n",
            "Requirement already satisfied: pyparsing>=2.0.2 in /usr/local/lib/python3.7/dist-packages (from packaging->transformers) (2.4.7)\n",
            "Requirement already satisfied: zipp>=0.5 in /usr/local/lib/python3.7/dist-packages (from importlib-metadata->transformers) (3.5.0)\n",
            "Requirement already satisfied: urllib3!=1.25.0,!=1.25.1,<1.26,>=1.21.1 in /usr/local/lib/python3.7/dist-packages (from requests->transformers) (1.24.3)\n",
            "Requirement already satisfied: certifi>=2017.4.17 in /usr/local/lib/python3.7/dist-packages (from requests->transformers) (2021.5.30)\n",
            "Requirement already satisfied: idna<3,>=2.5 in /usr/local/lib/python3.7/dist-packages (from requests->transformers) (2.10)\n",
            "Requirement already satisfied: chardet<4,>=3.0.2 in /usr/local/lib/python3.7/dist-packages (from requests->transformers) (3.0.4)\n",
            "Requirement already satisfied: joblib in /usr/local/lib/python3.7/dist-packages (from sacremoses->transformers) (1.0.1)\n",
            "Requirement already satisfied: click in /usr/local/lib/python3.7/dist-packages (from sacremoses->transformers) (7.1.2)\n",
            "Requirement already satisfied: six in /usr/local/lib/python3.7/dist-packages (from sacremoses->transformers) (1.15.0)\n",
            "[nltk_data] Downloading package punkt to /root/nltk_data...\n",
            "[nltk_data]   Package punkt is already up-to-date!\n"
          ]
        },
        {
          "output_type": "execute_result",
          "data": {
            "text/plain": [
              "True"
            ]
          },
          "metadata": {},
          "execution_count": 7
        }
      ]
    },
    {
      "cell_type": "code",
      "metadata": {
        "id": "-OjQwhQFGhnB",
        "colab": {
          "base_uri": "https://localhost:8080/"
        },
        "outputId": "10928ab3-28fd-4183-9e58-02ae6070d8c4"
      },
      "source": [
        "import time \n",
        "!if [ -e \"/content/model.zip\" ]; then rm \"/content/model.zip\"; fi # model.zip 가져오는 경우\n",
        "!wget --load-cookies /tmp/cookies.txt \"https://docs.google.com/uc?export=download&confirm=$(wget --quiet --save-cookies /tmp/cookies.txt --keep-session-cookies --no-check-certificate 'https://docs.google.com/uc?export=download&id=1bXhFT-tpj-8G-I3D2N2O6jJGjHo2GpNd' -O- | sed -rn 's/.*confirm=([0-9A-Za-z_]+).*/\\1\\n/p')&id=1bXhFT-tpj-8G-I3D2N2O6jJGjHo2GpNd\" -O model.zip && rm -rf /tmp/cookies.txt\n",
        "time.sleep(4)\n",
        "!if [ -d \"/content/model_save\" ]; then rm -r \"/content/model_save\"; fi # model_save 가져오는 경우\n",
        "!unzip /content/model.zip"
      ],
      "execution_count": null,
      "outputs": [
        {
          "output_type": "stream",
          "name": "stdout",
          "text": [
            "--2021-09-02 11:45:00--  https://docs.google.com/uc?export=download&confirm=Q7jm&id=1bXhFT-tpj-8G-I3D2N2O6jJGjHo2GpNd\n",
            "Resolving docs.google.com (docs.google.com)... 64.233.189.138, 64.233.189.101, 64.233.189.100, ...\n",
            "Connecting to docs.google.com (docs.google.com)|64.233.189.138|:443... connected.\n",
            "HTTP request sent, awaiting response... 302 Moved Temporarily\n",
            "Location: https://doc-14-ac-docs.googleusercontent.com/docs/securesc/ji41t8q9rkee2ft9hqt83lpldjokvfsv/ctt0r067glot42d51f65uq1gufn0cdhs/1630583100000/15097711384147757777/12537631320545482420Z/1bXhFT-tpj-8G-I3D2N2O6jJGjHo2GpNd?e=download [following]\n",
            "--2021-09-02 11:45:00--  https://doc-14-ac-docs.googleusercontent.com/docs/securesc/ji41t8q9rkee2ft9hqt83lpldjokvfsv/ctt0r067glot42d51f65uq1gufn0cdhs/1630583100000/15097711384147757777/12537631320545482420Z/1bXhFT-tpj-8G-I3D2N2O6jJGjHo2GpNd?e=download\n",
            "Resolving doc-14-ac-docs.googleusercontent.com (doc-14-ac-docs.googleusercontent.com)... 64.233.189.132, 2404:6800:4008:c07::84\n",
            "Connecting to doc-14-ac-docs.googleusercontent.com (doc-14-ac-docs.googleusercontent.com)|64.233.189.132|:443... connected.\n",
            "HTTP request sent, awaiting response... 302 Found\n",
            "Location: https://docs.google.com/nonceSigner?nonce=j94djs2lqbpd4&continue=https://doc-14-ac-docs.googleusercontent.com/docs/securesc/ji41t8q9rkee2ft9hqt83lpldjokvfsv/ctt0r067glot42d51f65uq1gufn0cdhs/1630583100000/15097711384147757777/12537631320545482420Z/1bXhFT-tpj-8G-I3D2N2O6jJGjHo2GpNd?e%3Ddownload&hash=td3o5f10urvn9rt4me7mcvf0dj0cl7ug [following]\n",
            "--2021-09-02 11:45:00--  https://docs.google.com/nonceSigner?nonce=j94djs2lqbpd4&continue=https://doc-14-ac-docs.googleusercontent.com/docs/securesc/ji41t8q9rkee2ft9hqt83lpldjokvfsv/ctt0r067glot42d51f65uq1gufn0cdhs/1630583100000/15097711384147757777/12537631320545482420Z/1bXhFT-tpj-8G-I3D2N2O6jJGjHo2GpNd?e%3Ddownload&hash=td3o5f10urvn9rt4me7mcvf0dj0cl7ug\n",
            "Connecting to docs.google.com (docs.google.com)|64.233.189.138|:443... connected.\n",
            "HTTP request sent, awaiting response... 302 Found\n",
            "Location: https://doc-14-ac-docs.googleusercontent.com/docs/securesc/ji41t8q9rkee2ft9hqt83lpldjokvfsv/ctt0r067glot42d51f65uq1gufn0cdhs/1630583100000/15097711384147757777/12537631320545482420Z/1bXhFT-tpj-8G-I3D2N2O6jJGjHo2GpNd?e=download&nonce=j94djs2lqbpd4&user=12537631320545482420Z&hash=6c94qk3qo7bdf4nl1bt9k9jqe3sarfmf [following]\n",
            "--2021-09-02 11:45:01--  https://doc-14-ac-docs.googleusercontent.com/docs/securesc/ji41t8q9rkee2ft9hqt83lpldjokvfsv/ctt0r067glot42d51f65uq1gufn0cdhs/1630583100000/15097711384147757777/12537631320545482420Z/1bXhFT-tpj-8G-I3D2N2O6jJGjHo2GpNd?e=download&nonce=j94djs2lqbpd4&user=12537631320545482420Z&hash=6c94qk3qo7bdf4nl1bt9k9jqe3sarfmf\n",
            "Connecting to doc-14-ac-docs.googleusercontent.com (doc-14-ac-docs.googleusercontent.com)|64.233.189.132|:443... connected.\n",
            "HTTP request sent, awaiting response... 200 OK\n",
            "Length: unspecified [application/zip]\n",
            "Saving to: ‘model.zip’\n",
            "\n",
            "model.zip               [                <=> ] 422.15M   138MB/s    in 3.0s    \n",
            "\n",
            "2021-09-02 11:45:04 (138 MB/s) - ‘model.zip’ saved [442653912]\n",
            "\n",
            "Archive:  /content/model.zip\n",
            "  inflating: model_save/model_batch1/added_tokens.json  \n",
            "  inflating: model_save/model_batch1/tokenizer.json  \n",
            "  inflating: model_save/model_batch1/tokenizer_config.json  \n",
            "  inflating: model_save/model_batch1/special_tokens_map.json  \n",
            "  inflating: model_save/model_batch1/config.json  \n",
            "  inflating: model_save/model_batch1/vocab.txt  \n",
            "  inflating: model_save/model_batch1/pytorch_model.bin  \n"
          ]
        }
      ]
    },
    {
      "cell_type": "code",
      "metadata": {
        "id": "lHaj8OWmGyw4",
        "colab": {
          "base_uri": "https://localhost:8080/"
        },
        "outputId": "76b00c6f-ed8d-4ed2-b0c8-9522f953e122"
      },
      "source": [
        "# GPT2 모델, 토크나이저 불러오기\n",
        "LOAD_DIR = '/content/model_save/model_batch1'\n",
        "model = GPT2LMHeadModel.from_pretrained(LOAD_DIR)\n",
        "tokenizer = BertTokenizerFast.from_pretrained(LOAD_DIR)\n",
        "input_ids = tokenizer.encode(\"text to tokenize\")[1:]  # CLS token 제거\n",
        "tokenizer_gpt3 = BertTokenizerFast.from_pretrained(\"kykim/gpt3-kor-small_based_on_gpt2\", \n",
        "                                                   bos_token='<|startoftext|>', \n",
        "                                                   eos_token='<|endoftext|>', \n",
        "                                                   pad_token='<|pad|>')\n",
        "device = torch.device('cuda' if torch.cuda.is_available() else 'cpu')"
      ],
      "execution_count": null,
      "outputs": [
        {
          "output_type": "stream",
          "name": "stderr",
          "text": [
            "The tokenizer class you load from this checkpoint is not the same type as the class this function is called from. It may result in unexpected tokenization. \n",
            "The tokenizer class you load from this checkpoint is 'GPT2Tokenizer'. \n",
            "The class this function is called from is 'BertTokenizer'.\n",
            "Special tokens have been added in the vocabulary, make sure the associated word embeddings are fine-tuned or trained.\n",
            "The tokenizer class you load from this checkpoint is not the same type as the class this function is called from. It may result in unexpected tokenization. \n",
            "The tokenizer class you load from this checkpoint is 'GPT2Tokenizer'. \n",
            "The class this function is called from is 'BertTokenizerFast'.\n",
            "Special tokens have been added in the vocabulary, make sure the associated word embeddings are fine-tuned or trained.\n"
          ]
        }
      ]
    },
    {
      "cell_type": "markdown",
      "metadata": {
        "id": "zH_gKYSJJPmC"
      },
      "source": [
        "###**🖊 자기소개서를 생성해봅시다 !**\n",
        "*데이터 양이 많아 시간이 조금 걸리는 점 양해 부탁드립니다.*\n"
      ]
    },
    {
      "cell_type": "code",
      "metadata": {
        "colab": {
          "base_uri": "https://localhost:8080/"
        },
        "cellView": "form",
        "id": "3VbyAUCVHeod",
        "outputId": "553e1add-4feb-4df7-c19c-ef918b3fb838"
      },
      "source": [
        "#@markdown ⬅️  아래 항목들을 채우고 클릭해주세요 !\n",
        "\n",
        "#@markdown 원하는 자기소개서의 첫 문장을 입력해주세요:\n",
        "\n",
        "sentence = \"\\uC800\\uB294 \\uC5F4\\uC815\\uC801\\uC778 \\uC0AC\\uB78C\\uC785\\uB2C8\\uB2E4.\" #@param {type:\"string\"}\n",
        "\n",
        "#@markdown 생성할 자기소개서 답변의 개수를 고르세요:\n",
        "num = 3 #@param {type:\"slider\", min:1, max:10, step:1}\n",
        "\n",
        "model.eval()\n",
        "\n",
        "# input 생성하기\n",
        "prompt = f\"<|startoftext|> {sentence}\"\n",
        "generated = torch.tensor(tokenizer_gpt3.encode(prompt)[1:]).unsqueeze(0)\n",
        "generated = generated.to(device)\n",
        "\n",
        "# output 만들기\n",
        "sample_outputs = model.generate(\n",
        "                                  generated, \n",
        "                                  do_sample=True,   \n",
        "                                  top_k=50, \n",
        "                                  max_length = 500,\n",
        "                                  top_p=0.95, \n",
        "                                  num_return_sequences=num,\n",
        "                                  repetition_penalty=1.1\n",
        "                                  )\n",
        "\n",
        "print(\" 📄 입력하신 '{}'을 기반으로 생성된 자기소개서입니다 !\".format(sentence))\n",
        "\n",
        "# 생성된 자기소개서 print\n",
        "for i, sample_output in enumerate(sample_outputs):\n",
        "    result = \"{}\\n\\n\".format(tokenizer_gpt3.decode(sample_output, skip_special_tokens=True))\n",
        "    print(\" {}번째 자기소개서: \".format(i+1), '\\n', result)"
      ],
      "execution_count": null,
      "outputs": [
        {
          "output_type": "stream",
          "name": "stderr",
          "text": [
            "Setting `pad_token_id` to `eos_token_id`:3 for open-end generation.\n"
          ]
        },
        {
          "output_type": "stream",
          "name": "stdout",
          "text": [
            " 📄 입력하신 '저는 열정적인 사람입니다.'을 기반으로 생성된 자기소개서입니다 !\n",
            " 1번째 자기소개서:  \n",
            " 저는 열정적인 사람입니다. 대학 시절 공부했던 화학과목에서 조장을 맡아서 수행한 적이 있습니다. 학기마다 발표하는 조가 있었는데 매주 조원 명이 다 같이 모여 조에 대해 토론하고 발표를 준비해야 했습니다. 각자 한 조를 만들어야 했기 때문에 각 조의 담당 교수님과 한 시간씩 만나서 대화하는 시간을 가졌습니다. 그 날 주제가 정해졌는데 주제를 정하기가 쉽지 않았습니다. 가장 유력한 주제는 교수님의 승인이 필요한 주제였기에 교수님께 의견을 여쭤보니 이미 정해놓은 주제라 다른 주제로 진행하자고 하셨습니다. 하지만 기존의 주제가 싫지 않았고 자신의 전공과 맞지 않으면 새로운 주제를 선택해야 한다고 생각하여 발표방식을 바꾸어보기로 결정했습니다. 기존에는 발표연습을 하는 시간을 갖는 것이 전부였지만 제가 발표한 주제에 관한 지식들을 학생들에게 설명하는 시간을 가질 수도 있고 모르는 내용도 쉽게 물어보면서 발표를 진행할 수 있었습니다. 발표 후에는 교수님께서 이 정도면 되겠네라고 말씀해 주심에 더 열심히 하게 되었습니다. 하지만 이러한 노력에도 불구하고 발표내용이 너무 부족해 학생들로부터 좋은 평을 받지 못했습니다. 그래서 교수님에게 다시 질문했고 그 답은 저희의 연구결과를 어떻게 해석할 것인지에 대한 교수님의 생각이었고 그렇게 해석된 논문으로 실험을 하기로 결정했습니다. 실험을 진행하면서 기존 논문과 달리 결과가 빠르게 나올 뿐만 아니라 여러 분석기기들의 도움을 받으면서 실험을 진행한다면 더 빠르고 확실한 결과를 얻을 수 있다고 판단되어 연구실에 들어가 교수님을 대신해서 실험한 결과도 역시 빠르게 나와 주었습니다. 이러한 경험을 통해서 어떤 일을 진행할 때 어떤 방식으로 그 과정을 이끌어 나가야 할 지 빠르게 알아내고 그 과정에서 빠르게 개선점을 찾아 낼 수 있어야 한다는 것을 배울 수 있었습니다. 제가 입사하게 된다면 많은 업무 중에서 특히 중요하다고 생각되는 실험 분야를 맡아서 업무를 해나가도록 하겠습니다. 이러한 경험들을 통해 배운 지식들을 바탕으로 업무에 임하도록 하겠습니다. 항상 배움의 자세로 임하겠습니다 저는 남들보다 뛰어난 창의성을 가진 것은 아니지만 새로운 것에 대해서 호기심이 많고 관심이 많았던 저는 과학 분야의 전문 지식에 대해서 알고 싶어서 대학교 때부터 지금까지 약 개월 동안 매일 조교 생활을 했습니다. 그리고 대학교를 졸업할 때까지 한 번도 쉬지 않고 꾸준히 아르바이트를 해서 번 돈으로 월세와 생활비를 벌었던 경험이 있습니다. 비록 시간이 많지 않았지만 저는 배움의 자세를 가지고 있었기에 남들이 가지 않는 길을 묵묵히 걸어왔습니다. 또한 남들보다 한발 앞서 나아가려는 노력을 통해 학교에서 배우는 이론들을 실제로 적용하여 결과를 내는 경우도 많았고 실제로 실습을 진행하는 경험도 해봤습니다. 이를 토대로 현재에도 제가 하고 싶은 일 중에 하나로서 항상 배움의 자세를 지니고 있습니다.\n",
            "\n",
            "\n",
            " 2번째 자기소개서:  \n",
            " 저는 열정적인 사람입니다. 대학교 년 때 졸업프로젝트를 하면서 새로운 것에 도전하고 이를 통해 전공 지식을 쌓아나갔습니다. 첫 번째로 통신과목을 수강하면서 통신이론이 왜 필수적이냐라는 질문을 스스로 던졌습니다. 저의 질문은 통신 이론에만 적용되는지 아닌지를 판단하는 데 중요한 요소가 되었습니다. 그리고 다음 학기에는 통신에 대한 과목들을 수강하게 되면서 저의 생각을 좀 더 구체화 할 수 있었습니다. 두 번째로는 oooo ooooo이라는 it 동아리에서 활동하며 프로그래밍을 익혔습니다. 매주 팀원들과 회의를 하여 개발 프로세스에 대해 공부하고 팀원들이 각자의 능력을 발휘할 수 있도록 도왔습니다. 그리고 방학 동안에는 ooooo에서 진행하는 코딩 경진대회의 팀을 맡아서 프로젝트를 진행하기도 했습니다. 이런 프로젝트 경험을 통해서 배운 점이 있다면 팀 프로젝트를 진행할 때는 제가 주도적으로 나서서 일을 해결하는 것이 필요하다는 것입니다. 이 경험을 살려서 프로젝트의 전체적인 흐름과 흐름을 파악하고 팀원들의 역할분담을 잘하여 프로젝트를 성공적으로 끝마칠 수 있을 것입니다. 저의 장점을 살릴 수 있는 분야에서 일해보고 싶다는 생각에 도전을 하게 되었습니다. 대학교 년 때 전공 공부와 취업준비를 병행하느라 학업 이외에 많은 시간을 투자할 여유가 없었습니다. 그 결과 저는 전공을 다시 한 번 공부하는 기회로 삼았습니다. 교양수업을 들으면서 컴퓨터공학에 관해서 배웠고 전공 관련 수업을 수강하면서는 java c db 등 기본적인 웹 개발에 쓰이는 언어들 또한 배웠습니다. 또한 군 제대 이후에는 학비를 벌고자 컴퓨터활용능력시험 자격증을 취득했습니다. 그리고 대학 진학 후 전공 책을 구매하여 독학으로 공부하게 되었습니다. 인터넷 강의를 들어보면서는 c과목에 흥미를 느꼈고 ccna test를 진행하는 학교 수업도 들을 수 있었습니다. 그리고 정보처리기사 자격증 또한 취득하였습니다. 이렇게 전공 지식이 있는 상태에서 학부 전공에서 좋은 평가를 받아 복학까지 할 수 있었습니다. 이렇게 전공 지식과 공부를 바탕으로 임베디드 소프트웨어 개발 분야에 있어서 뛰어난 능력을 가지고 있다고 생각합니다. 앞으로 저는 정보통신 시스템 개발 및 운영을 위해서 필요한 능력을 갖추고 있습니다. 우선 현재 기술 발달로 인해 pc나 핸드폰도 점점 작아지고 있고 또 네트워크 역시 계속해서 발전하고 있습니다. 이러한 환경에서 제 강점인 sw 기술 활용능력으로 세계 시장을 주도할 수 있을 것이라고 생각합니다.\n",
            "\n",
            "\n",
            " 3번째 자기소개서:  \n",
            " 저는 열정적인 사람입니다. 그리고 열정을 가지고 업무를 진행하겠습니다. 제가 어떤 일을 할 때 에너지가 넘치는 것은 무슨 일이든 해낼 수 있다는 자신감이 있기 때문에 가능한 것입니다. 또한 열정을 가진 자에게는 어떠한 일도 할 수 있다라는 말이 있습니다. 그러한 자신감으로 주어진 업무에 최선을 다하여 성과를 내겠습니다. 저는 열정적인 사람이라고 생각합니다. 도전하는 것 그것이 저의 큰 장점입니다. 고등학교에 입학한 후 처음으로 부모님께 용돈을 받지 않았습니다. 그 당시 부모님께서는 저희 집 형편이 넉넉하지 않았기 때문에 다른 친구들을 보고 의지할 수가 없었습니다. 그래서 아르바이트를 통해 용돈을 받는 것으로 만족하고 지냈지만 시간이 지날수록 부모님의 모습은 점점 안 좋아졌습니다. 이러한 상황이 계속되다 보니 자연스럽게 친구들과 떨어져 지내게 되었습니다. 하지만 부모님께서도 점점 성격이 변하기 시작하셨습니다. 부모님께서는 이러한 상황에서도 쉽게 포기하지 않으셨습니다. 그래서 저는 적극적으로 행동하였고 노력은 배신하지 않는다는 것을 몸으로 직접 느낄 수 있었습니다. 결국 저는 아르바이트를 그만두고 학업을 다시 시작해 학교 대표로 뽑힐 수 있었고 최우수상을 받을 수 있었습니다. 도전에 두려워하지 않는 사람 대학시절 전공에 대한 흥미도 있었지만 호기심과 도전정신이 많은 성격이었습니다. 학년 때 실험실에서의 경험 중 가장 힘들었던 경험은 교수님께서 한 실험 결과에 따른 보고서를 제출하는 실습이었기 때문입니다. 실험실은 작은 편이었기 때문에 저는 먼저 제가 맡은 실험을 설명하고 보고서를 작성하였습니다. 그러나 실험실에는 아무도 없었고 결국에는 저와 함께 밤을 지새우며 연구하던 실험실의 리더였던 교수님의 보고서마저 모두 읽지 못한 채로 끝내야만 했습니다. 그렇지만 저는 끝까지 책임을 질 수 있고 실험을 하면서 부족한 부분을 스스로 찾아서 채워가는 것의 즐거움을 느꼈습니다. 비록 저 자신이었지만 책임감을 갖고 맡은 일에 대한 책임감과 끈기 있는 모습을 보여 드리겠습니다. 저는 성실하고 도전적인 사람입니다. 대학교에 들어가면서 많은 활동을 하고 싶어 했고 특히 봉사활동을 많이 하였습니다. 봉사활동 외에도 공부를 위해 도서관에서 시간을 보낼 때도 많았고 책을 빌려서 공부하는 것도 좋아했습니다. 하지만 동아리 활동은 제게 좀 더 높은 목표를 세워주었고 저를 발전시켜주었습니다. 그래서 대학생활을 하면서 많은 사람들과 관계를 맺게 되었고 지금은 대학생활에서 배운 교훈들을 바탕으로 교내 봉사활동에 적극적으로 참여하게 되고 저의 꿈이었던 봉사동아리 회장직을 맡고 싶어서 지원하였습니다. 그리고 저는 교내 봉사 동아리에 입행하여 활동하며 교내 학술제에서 총장 표창까지 수상하기도 하는 동시에 활동뿐만 아니라 다양한 동아리 활동에서 경험을 쌓았습니다. 많은 활동 중에 제 꿈인 학생회 활동을 시작으로 oo생명 사랑의 금융 나눔 실천 활동 헌혈 캠페인 등 여러 사회 공헌 활동에\n",
            "\n",
            "\n"
          ]
        }
      ]
    }
  ]
}