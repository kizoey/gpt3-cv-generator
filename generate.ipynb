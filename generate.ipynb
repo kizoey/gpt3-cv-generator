{
  "nbformat": 4,
  "nbformat_minor": 0,
  "metadata": {
    "colab": {
      "name": "자기소개서_문장_생성결과(데이터_15000개,epoch=2).ipynb",
      "provenance": [],
      "collapsed_sections": []
    },
    "kernelspec": {
      "name": "python3",
      "display_name": "Python 3"
    },
    "language_info": {
      "name": "python"
    },
    "widgets": {
      "application/vnd.jupyter.widget-state+json": {
        "6e00a7b9807045fda85b214d2431fea2": {
          "model_module": "@jupyter-widgets/controls",
          "model_name": "HBoxModel",
          "model_module_version": "1.5.0",
          "state": {
            "_view_name": "HBoxView",
            "_dom_classes": [],
            "_model_name": "HBoxModel",
            "_view_module": "@jupyter-widgets/controls",
            "_model_module_version": "1.5.0",
            "_view_count": null,
            "_view_module_version": "1.5.0",
            "box_style": "",
            "layout": "IPY_MODEL_9e956882dc5f47a0976705c4450ea753",
            "_model_module": "@jupyter-widgets/controls",
            "children": [
              "IPY_MODEL_fa97bd23bd0a463e94bac40af9d6933e",
              "IPY_MODEL_b94ee1108d9b4042aa6426d71ec40d10",
              "IPY_MODEL_c278f8ea85ea48a99c5e99e394f85854"
            ]
          }
        },
        "9e956882dc5f47a0976705c4450ea753": {
          "model_module": "@jupyter-widgets/base",
          "model_name": "LayoutModel",
          "model_module_version": "1.2.0",
          "state": {
            "_view_name": "LayoutView",
            "grid_template_rows": null,
            "right": null,
            "justify_content": null,
            "_view_module": "@jupyter-widgets/base",
            "overflow": null,
            "_model_module_version": "1.2.0",
            "_view_count": null,
            "flex_flow": null,
            "width": null,
            "min_width": null,
            "border": null,
            "align_items": null,
            "bottom": null,
            "_model_module": "@jupyter-widgets/base",
            "top": null,
            "grid_column": null,
            "overflow_y": null,
            "overflow_x": null,
            "grid_auto_flow": null,
            "grid_area": null,
            "grid_template_columns": null,
            "flex": null,
            "_model_name": "LayoutModel",
            "justify_items": null,
            "grid_row": null,
            "max_height": null,
            "align_content": null,
            "visibility": null,
            "align_self": null,
            "height": null,
            "min_height": null,
            "padding": null,
            "grid_auto_rows": null,
            "grid_gap": null,
            "max_width": null,
            "order": null,
            "_view_module_version": "1.2.0",
            "grid_template_areas": null,
            "object_position": null,
            "object_fit": null,
            "grid_auto_columns": null,
            "margin": null,
            "display": null,
            "left": null
          }
        },
        "fa97bd23bd0a463e94bac40af9d6933e": {
          "model_module": "@jupyter-widgets/controls",
          "model_name": "HTMLModel",
          "model_module_version": "1.5.0",
          "state": {
            "_view_name": "HTMLView",
            "style": "IPY_MODEL_1e0bb0b25545416d929944b1ed02d4b0",
            "_dom_classes": [],
            "description": "",
            "_model_name": "HTMLModel",
            "placeholder": "​",
            "_view_module": "@jupyter-widgets/controls",
            "_model_module_version": "1.5.0",
            "value": "Downloading: 100%",
            "_view_count": null,
            "_view_module_version": "1.5.0",
            "description_tooltip": null,
            "_model_module": "@jupyter-widgets/controls",
            "layout": "IPY_MODEL_0b20ca1675cb4ed4a77fded855f916ec"
          }
        },
        "b94ee1108d9b4042aa6426d71ec40d10": {
          "model_module": "@jupyter-widgets/controls",
          "model_name": "FloatProgressModel",
          "model_module_version": "1.5.0",
          "state": {
            "_view_name": "ProgressView",
            "style": "IPY_MODEL_d8a97900141643ada342cad68317c9ee",
            "_dom_classes": [],
            "description": "",
            "_model_name": "FloatProgressModel",
            "bar_style": "success",
            "max": 344259,
            "_view_module": "@jupyter-widgets/controls",
            "_model_module_version": "1.5.0",
            "value": 344259,
            "_view_count": null,
            "_view_module_version": "1.5.0",
            "orientation": "horizontal",
            "min": 0,
            "description_tooltip": null,
            "_model_module": "@jupyter-widgets/controls",
            "layout": "IPY_MODEL_0e9cf834fec443d19d2c330943bd659c"
          }
        },
        "c278f8ea85ea48a99c5e99e394f85854": {
          "model_module": "@jupyter-widgets/controls",
          "model_name": "HTMLModel",
          "model_module_version": "1.5.0",
          "state": {
            "_view_name": "HTMLView",
            "style": "IPY_MODEL_af177c198e6a4193911211f5a679a26d",
            "_dom_classes": [],
            "description": "",
            "_model_name": "HTMLModel",
            "placeholder": "​",
            "_view_module": "@jupyter-widgets/controls",
            "_model_module_version": "1.5.0",
            "value": " 344k/344k [00:00&lt;00:00, 336kB/s]",
            "_view_count": null,
            "_view_module_version": "1.5.0",
            "description_tooltip": null,
            "_model_module": "@jupyter-widgets/controls",
            "layout": "IPY_MODEL_0dd4c05ea3d14edb9e485c29bfc4b41d"
          }
        },
        "1e0bb0b25545416d929944b1ed02d4b0": {
          "model_module": "@jupyter-widgets/controls",
          "model_name": "DescriptionStyleModel",
          "model_module_version": "1.5.0",
          "state": {
            "_view_name": "StyleView",
            "_model_name": "DescriptionStyleModel",
            "description_width": "",
            "_view_module": "@jupyter-widgets/base",
            "_model_module_version": "1.5.0",
            "_view_count": null,
            "_view_module_version": "1.2.0",
            "_model_module": "@jupyter-widgets/controls"
          }
        },
        "0b20ca1675cb4ed4a77fded855f916ec": {
          "model_module": "@jupyter-widgets/base",
          "model_name": "LayoutModel",
          "model_module_version": "1.2.0",
          "state": {
            "_view_name": "LayoutView",
            "grid_template_rows": null,
            "right": null,
            "justify_content": null,
            "_view_module": "@jupyter-widgets/base",
            "overflow": null,
            "_model_module_version": "1.2.0",
            "_view_count": null,
            "flex_flow": null,
            "width": null,
            "min_width": null,
            "border": null,
            "align_items": null,
            "bottom": null,
            "_model_module": "@jupyter-widgets/base",
            "top": null,
            "grid_column": null,
            "overflow_y": null,
            "overflow_x": null,
            "grid_auto_flow": null,
            "grid_area": null,
            "grid_template_columns": null,
            "flex": null,
            "_model_name": "LayoutModel",
            "justify_items": null,
            "grid_row": null,
            "max_height": null,
            "align_content": null,
            "visibility": null,
            "align_self": null,
            "height": null,
            "min_height": null,
            "padding": null,
            "grid_auto_rows": null,
            "grid_gap": null,
            "max_width": null,
            "order": null,
            "_view_module_version": "1.2.0",
            "grid_template_areas": null,
            "object_position": null,
            "object_fit": null,
            "grid_auto_columns": null,
            "margin": null,
            "display": null,
            "left": null
          }
        },
        "d8a97900141643ada342cad68317c9ee": {
          "model_module": "@jupyter-widgets/controls",
          "model_name": "ProgressStyleModel",
          "model_module_version": "1.5.0",
          "state": {
            "_view_name": "StyleView",
            "_model_name": "ProgressStyleModel",
            "description_width": "",
            "_view_module": "@jupyter-widgets/base",
            "_model_module_version": "1.5.0",
            "_view_count": null,
            "_view_module_version": "1.2.0",
            "bar_color": null,
            "_model_module": "@jupyter-widgets/controls"
          }
        },
        "0e9cf834fec443d19d2c330943bd659c": {
          "model_module": "@jupyter-widgets/base",
          "model_name": "LayoutModel",
          "model_module_version": "1.2.0",
          "state": {
            "_view_name": "LayoutView",
            "grid_template_rows": null,
            "right": null,
            "justify_content": null,
            "_view_module": "@jupyter-widgets/base",
            "overflow": null,
            "_model_module_version": "1.2.0",
            "_view_count": null,
            "flex_flow": null,
            "width": null,
            "min_width": null,
            "border": null,
            "align_items": null,
            "bottom": null,
            "_model_module": "@jupyter-widgets/base",
            "top": null,
            "grid_column": null,
            "overflow_y": null,
            "overflow_x": null,
            "grid_auto_flow": null,
            "grid_area": null,
            "grid_template_columns": null,
            "flex": null,
            "_model_name": "LayoutModel",
            "justify_items": null,
            "grid_row": null,
            "max_height": null,
            "align_content": null,
            "visibility": null,
            "align_self": null,
            "height": null,
            "min_height": null,
            "padding": null,
            "grid_auto_rows": null,
            "grid_gap": null,
            "max_width": null,
            "order": null,
            "_view_module_version": "1.2.0",
            "grid_template_areas": null,
            "object_position": null,
            "object_fit": null,
            "grid_auto_columns": null,
            "margin": null,
            "display": null,
            "left": null
          }
        },
        "af177c198e6a4193911211f5a679a26d": {
          "model_module": "@jupyter-widgets/controls",
          "model_name": "DescriptionStyleModel",
          "model_module_version": "1.5.0",
          "state": {
            "_view_name": "StyleView",
            "_model_name": "DescriptionStyleModel",
            "description_width": "",
            "_view_module": "@jupyter-widgets/base",
            "_model_module_version": "1.5.0",
            "_view_count": null,
            "_view_module_version": "1.2.0",
            "_model_module": "@jupyter-widgets/controls"
          }
        },
        "0dd4c05ea3d14edb9e485c29bfc4b41d": {
          "model_module": "@jupyter-widgets/base",
          "model_name": "LayoutModel",
          "model_module_version": "1.2.0",
          "state": {
            "_view_name": "LayoutView",
            "grid_template_rows": null,
            "right": null,
            "justify_content": null,
            "_view_module": "@jupyter-widgets/base",
            "overflow": null,
            "_model_module_version": "1.2.0",
            "_view_count": null,
            "flex_flow": null,
            "width": null,
            "min_width": null,
            "border": null,
            "align_items": null,
            "bottom": null,
            "_model_module": "@jupyter-widgets/base",
            "top": null,
            "grid_column": null,
            "overflow_y": null,
            "overflow_x": null,
            "grid_auto_flow": null,
            "grid_area": null,
            "grid_template_columns": null,
            "flex": null,
            "_model_name": "LayoutModel",
            "justify_items": null,
            "grid_row": null,
            "max_height": null,
            "align_content": null,
            "visibility": null,
            "align_self": null,
            "height": null,
            "min_height": null,
            "padding": null,
            "grid_auto_rows": null,
            "grid_gap": null,
            "max_width": null,
            "order": null,
            "_view_module_version": "1.2.0",
            "grid_template_areas": null,
            "object_position": null,
            "object_fit": null,
            "grid_auto_columns": null,
            "margin": null,
            "display": null,
            "left": null
          }
        },
        "fcf976a0da354efe9509d774ba036730": {
          "model_module": "@jupyter-widgets/controls",
          "model_name": "HBoxModel",
          "model_module_version": "1.5.0",
          "state": {
            "_view_name": "HBoxView",
            "_dom_classes": [],
            "_model_name": "HBoxModel",
            "_view_module": "@jupyter-widgets/controls",
            "_model_module_version": "1.5.0",
            "_view_count": null,
            "_view_module_version": "1.5.0",
            "box_style": "",
            "layout": "IPY_MODEL_5ac9198218a94dbc8e66fe92aac5e841",
            "_model_module": "@jupyter-widgets/controls",
            "children": [
              "IPY_MODEL_0e60da5e43d34f4a96663c1663aaf789",
              "IPY_MODEL_6904dc6a34c846fcb2e973090a67f188",
              "IPY_MODEL_96e5542dd6e54ed39403c16a63744e77"
            ]
          }
        },
        "5ac9198218a94dbc8e66fe92aac5e841": {
          "model_module": "@jupyter-widgets/base",
          "model_name": "LayoutModel",
          "model_module_version": "1.2.0",
          "state": {
            "_view_name": "LayoutView",
            "grid_template_rows": null,
            "right": null,
            "justify_content": null,
            "_view_module": "@jupyter-widgets/base",
            "overflow": null,
            "_model_module_version": "1.2.0",
            "_view_count": null,
            "flex_flow": null,
            "width": null,
            "min_width": null,
            "border": null,
            "align_items": null,
            "bottom": null,
            "_model_module": "@jupyter-widgets/base",
            "top": null,
            "grid_column": null,
            "overflow_y": null,
            "overflow_x": null,
            "grid_auto_flow": null,
            "grid_area": null,
            "grid_template_columns": null,
            "flex": null,
            "_model_name": "LayoutModel",
            "justify_items": null,
            "grid_row": null,
            "max_height": null,
            "align_content": null,
            "visibility": null,
            "align_self": null,
            "height": null,
            "min_height": null,
            "padding": null,
            "grid_auto_rows": null,
            "grid_gap": null,
            "max_width": null,
            "order": null,
            "_view_module_version": "1.2.0",
            "grid_template_areas": null,
            "object_position": null,
            "object_fit": null,
            "grid_auto_columns": null,
            "margin": null,
            "display": null,
            "left": null
          }
        },
        "0e60da5e43d34f4a96663c1663aaf789": {
          "model_module": "@jupyter-widgets/controls",
          "model_name": "HTMLModel",
          "model_module_version": "1.5.0",
          "state": {
            "_view_name": "HTMLView",
            "style": "IPY_MODEL_790f62cdae134890ad559bc479e7d337",
            "_dom_classes": [],
            "description": "",
            "_model_name": "HTMLModel",
            "placeholder": "​",
            "_view_module": "@jupyter-widgets/controls",
            "_model_module_version": "1.5.0",
            "value": "Downloading: 100%",
            "_view_count": null,
            "_view_module_version": "1.5.0",
            "description_tooltip": null,
            "_model_module": "@jupyter-widgets/controls",
            "layout": "IPY_MODEL_ceb63e63c1c14b25b2c143ebfb88e97f"
          }
        },
        "6904dc6a34c846fcb2e973090a67f188": {
          "model_module": "@jupyter-widgets/controls",
          "model_name": "FloatProgressModel",
          "model_module_version": "1.5.0",
          "state": {
            "_view_name": "ProgressView",
            "style": "IPY_MODEL_aaf08bf095a44219a668588456f4a971",
            "_dom_classes": [],
            "description": "",
            "_model_name": "FloatProgressModel",
            "bar_style": "success",
            "max": 82,
            "_view_module": "@jupyter-widgets/controls",
            "_model_module_version": "1.5.0",
            "value": 82,
            "_view_count": null,
            "_view_module_version": "1.5.0",
            "orientation": "horizontal",
            "min": 0,
            "description_tooltip": null,
            "_model_module": "@jupyter-widgets/controls",
            "layout": "IPY_MODEL_04a2bfb0d8b34743819990313dcdacb6"
          }
        },
        "96e5542dd6e54ed39403c16a63744e77": {
          "model_module": "@jupyter-widgets/controls",
          "model_name": "HTMLModel",
          "model_module_version": "1.5.0",
          "state": {
            "_view_name": "HTMLView",
            "style": "IPY_MODEL_88555979234d4bdabe1099a390f70349",
            "_dom_classes": [],
            "description": "",
            "_model_name": "HTMLModel",
            "placeholder": "​",
            "_view_module": "@jupyter-widgets/controls",
            "_model_module_version": "1.5.0",
            "value": " 82.0/82.0 [00:00&lt;00:00, 1.26kB/s]",
            "_view_count": null,
            "_view_module_version": "1.5.0",
            "description_tooltip": null,
            "_model_module": "@jupyter-widgets/controls",
            "layout": "IPY_MODEL_a0903055cdaf41b2a6e32b6c789315b5"
          }
        },
        "790f62cdae134890ad559bc479e7d337": {
          "model_module": "@jupyter-widgets/controls",
          "model_name": "DescriptionStyleModel",
          "model_module_version": "1.5.0",
          "state": {
            "_view_name": "StyleView",
            "_model_name": "DescriptionStyleModel",
            "description_width": "",
            "_view_module": "@jupyter-widgets/base",
            "_model_module_version": "1.5.0",
            "_view_count": null,
            "_view_module_version": "1.2.0",
            "_model_module": "@jupyter-widgets/controls"
          }
        },
        "ceb63e63c1c14b25b2c143ebfb88e97f": {
          "model_module": "@jupyter-widgets/base",
          "model_name": "LayoutModel",
          "model_module_version": "1.2.0",
          "state": {
            "_view_name": "LayoutView",
            "grid_template_rows": null,
            "right": null,
            "justify_content": null,
            "_view_module": "@jupyter-widgets/base",
            "overflow": null,
            "_model_module_version": "1.2.0",
            "_view_count": null,
            "flex_flow": null,
            "width": null,
            "min_width": null,
            "border": null,
            "align_items": null,
            "bottom": null,
            "_model_module": "@jupyter-widgets/base",
            "top": null,
            "grid_column": null,
            "overflow_y": null,
            "overflow_x": null,
            "grid_auto_flow": null,
            "grid_area": null,
            "grid_template_columns": null,
            "flex": null,
            "_model_name": "LayoutModel",
            "justify_items": null,
            "grid_row": null,
            "max_height": null,
            "align_content": null,
            "visibility": null,
            "align_self": null,
            "height": null,
            "min_height": null,
            "padding": null,
            "grid_auto_rows": null,
            "grid_gap": null,
            "max_width": null,
            "order": null,
            "_view_module_version": "1.2.0",
            "grid_template_areas": null,
            "object_position": null,
            "object_fit": null,
            "grid_auto_columns": null,
            "margin": null,
            "display": null,
            "left": null
          }
        },
        "aaf08bf095a44219a668588456f4a971": {
          "model_module": "@jupyter-widgets/controls",
          "model_name": "ProgressStyleModel",
          "model_module_version": "1.5.0",
          "state": {
            "_view_name": "StyleView",
            "_model_name": "ProgressStyleModel",
            "description_width": "",
            "_view_module": "@jupyter-widgets/base",
            "_model_module_version": "1.5.0",
            "_view_count": null,
            "_view_module_version": "1.2.0",
            "bar_color": null,
            "_model_module": "@jupyter-widgets/controls"
          }
        },
        "04a2bfb0d8b34743819990313dcdacb6": {
          "model_module": "@jupyter-widgets/base",
          "model_name": "LayoutModel",
          "model_module_version": "1.2.0",
          "state": {
            "_view_name": "LayoutView",
            "grid_template_rows": null,
            "right": null,
            "justify_content": null,
            "_view_module": "@jupyter-widgets/base",
            "overflow": null,
            "_model_module_version": "1.2.0",
            "_view_count": null,
            "flex_flow": null,
            "width": null,
            "min_width": null,
            "border": null,
            "align_items": null,
            "bottom": null,
            "_model_module": "@jupyter-widgets/base",
            "top": null,
            "grid_column": null,
            "overflow_y": null,
            "overflow_x": null,
            "grid_auto_flow": null,
            "grid_area": null,
            "grid_template_columns": null,
            "flex": null,
            "_model_name": "LayoutModel",
            "justify_items": null,
            "grid_row": null,
            "max_height": null,
            "align_content": null,
            "visibility": null,
            "align_self": null,
            "height": null,
            "min_height": null,
            "padding": null,
            "grid_auto_rows": null,
            "grid_gap": null,
            "max_width": null,
            "order": null,
            "_view_module_version": "1.2.0",
            "grid_template_areas": null,
            "object_position": null,
            "object_fit": null,
            "grid_auto_columns": null,
            "margin": null,
            "display": null,
            "left": null
          }
        },
        "88555979234d4bdabe1099a390f70349": {
          "model_module": "@jupyter-widgets/controls",
          "model_name": "DescriptionStyleModel",
          "model_module_version": "1.5.0",
          "state": {
            "_view_name": "StyleView",
            "_model_name": "DescriptionStyleModel",
            "description_width": "",
            "_view_module": "@jupyter-widgets/base",
            "_model_module_version": "1.5.0",
            "_view_count": null,
            "_view_module_version": "1.2.0",
            "_model_module": "@jupyter-widgets/controls"
          }
        },
        "a0903055cdaf41b2a6e32b6c789315b5": {
          "model_module": "@jupyter-widgets/base",
          "model_name": "LayoutModel",
          "model_module_version": "1.2.0",
          "state": {
            "_view_name": "LayoutView",
            "grid_template_rows": null,
            "right": null,
            "justify_content": null,
            "_view_module": "@jupyter-widgets/base",
            "overflow": null,
            "_model_module_version": "1.2.0",
            "_view_count": null,
            "flex_flow": null,
            "width": null,
            "min_width": null,
            "border": null,
            "align_items": null,
            "bottom": null,
            "_model_module": "@jupyter-widgets/base",
            "top": null,
            "grid_column": null,
            "overflow_y": null,
            "overflow_x": null,
            "grid_auto_flow": null,
            "grid_area": null,
            "grid_template_columns": null,
            "flex": null,
            "_model_name": "LayoutModel",
            "justify_items": null,
            "grid_row": null,
            "max_height": null,
            "align_content": null,
            "visibility": null,
            "align_self": null,
            "height": null,
            "min_height": null,
            "padding": null,
            "grid_auto_rows": null,
            "grid_gap": null,
            "max_width": null,
            "order": null,
            "_view_module_version": "1.2.0",
            "grid_template_areas": null,
            "object_position": null,
            "object_fit": null,
            "grid_auto_columns": null,
            "margin": null,
            "display": null,
            "left": null
          }
        },
        "cd1a513ff8954f248b88ea8a1cac899a": {
          "model_module": "@jupyter-widgets/controls",
          "model_name": "HBoxModel",
          "model_module_version": "1.5.0",
          "state": {
            "_view_name": "HBoxView",
            "_dom_classes": [],
            "_model_name": "HBoxModel",
            "_view_module": "@jupyter-widgets/controls",
            "_model_module_version": "1.5.0",
            "_view_count": null,
            "_view_module_version": "1.5.0",
            "box_style": "",
            "layout": "IPY_MODEL_393c636175fe455da911c1aefdfd1abc",
            "_model_module": "@jupyter-widgets/controls",
            "children": [
              "IPY_MODEL_0f0306e04af44866b308e6605d6d3d07",
              "IPY_MODEL_09eb2a31209a484c9691a1b644b27ee9",
              "IPY_MODEL_36b0e6be50c4429f9e062d2772d88b4d"
            ]
          }
        },
        "393c636175fe455da911c1aefdfd1abc": {
          "model_module": "@jupyter-widgets/base",
          "model_name": "LayoutModel",
          "model_module_version": "1.2.0",
          "state": {
            "_view_name": "LayoutView",
            "grid_template_rows": null,
            "right": null,
            "justify_content": null,
            "_view_module": "@jupyter-widgets/base",
            "overflow": null,
            "_model_module_version": "1.2.0",
            "_view_count": null,
            "flex_flow": null,
            "width": null,
            "min_width": null,
            "border": null,
            "align_items": null,
            "bottom": null,
            "_model_module": "@jupyter-widgets/base",
            "top": null,
            "grid_column": null,
            "overflow_y": null,
            "overflow_x": null,
            "grid_auto_flow": null,
            "grid_area": null,
            "grid_template_columns": null,
            "flex": null,
            "_model_name": "LayoutModel",
            "justify_items": null,
            "grid_row": null,
            "max_height": null,
            "align_content": null,
            "visibility": null,
            "align_self": null,
            "height": null,
            "min_height": null,
            "padding": null,
            "grid_auto_rows": null,
            "grid_gap": null,
            "max_width": null,
            "order": null,
            "_view_module_version": "1.2.0",
            "grid_template_areas": null,
            "object_position": null,
            "object_fit": null,
            "grid_auto_columns": null,
            "margin": null,
            "display": null,
            "left": null
          }
        },
        "0f0306e04af44866b308e6605d6d3d07": {
          "model_module": "@jupyter-widgets/controls",
          "model_name": "HTMLModel",
          "model_module_version": "1.5.0",
          "state": {
            "_view_name": "HTMLView",
            "style": "IPY_MODEL_70009758cb8a454c8fa77d057a915100",
            "_dom_classes": [],
            "description": "",
            "_model_name": "HTMLModel",
            "placeholder": "​",
            "_view_module": "@jupyter-widgets/controls",
            "_model_module_version": "1.5.0",
            "value": "Downloading: 100%",
            "_view_count": null,
            "_view_module_version": "1.5.0",
            "description_tooltip": null,
            "_model_module": "@jupyter-widgets/controls",
            "layout": "IPY_MODEL_054ed70278544536b60856247401ad7b"
          }
        },
        "09eb2a31209a484c9691a1b644b27ee9": {
          "model_module": "@jupyter-widgets/controls",
          "model_name": "FloatProgressModel",
          "model_module_version": "1.5.0",
          "state": {
            "_view_name": "ProgressView",
            "style": "IPY_MODEL_960ede48ccc04b4497d3a6441c80673a",
            "_dom_classes": [],
            "description": "",
            "_model_name": "FloatProgressModel",
            "bar_style": "success",
            "max": 615,
            "_view_module": "@jupyter-widgets/controls",
            "_model_module_version": "1.5.0",
            "value": 615,
            "_view_count": null,
            "_view_module_version": "1.5.0",
            "orientation": "horizontal",
            "min": 0,
            "description_tooltip": null,
            "_model_module": "@jupyter-widgets/controls",
            "layout": "IPY_MODEL_ac5da2f2e30c4c649d7f7d3d096ce119"
          }
        },
        "36b0e6be50c4429f9e062d2772d88b4d": {
          "model_module": "@jupyter-widgets/controls",
          "model_name": "HTMLModel",
          "model_module_version": "1.5.0",
          "state": {
            "_view_name": "HTMLView",
            "style": "IPY_MODEL_055602e111c04d72b04750cdc55cd736",
            "_dom_classes": [],
            "description": "",
            "_model_name": "HTMLModel",
            "placeholder": "​",
            "_view_module": "@jupyter-widgets/controls",
            "_model_module_version": "1.5.0",
            "value": " 615/615 [00:00&lt;00:00, 12.7kB/s]",
            "_view_count": null,
            "_view_module_version": "1.5.0",
            "description_tooltip": null,
            "_model_module": "@jupyter-widgets/controls",
            "layout": "IPY_MODEL_d710ea7e15fd46e797aaddaea738d06a"
          }
        },
        "70009758cb8a454c8fa77d057a915100": {
          "model_module": "@jupyter-widgets/controls",
          "model_name": "DescriptionStyleModel",
          "model_module_version": "1.5.0",
          "state": {
            "_view_name": "StyleView",
            "_model_name": "DescriptionStyleModel",
            "description_width": "",
            "_view_module": "@jupyter-widgets/base",
            "_model_module_version": "1.5.0",
            "_view_count": null,
            "_view_module_version": "1.2.0",
            "_model_module": "@jupyter-widgets/controls"
          }
        },
        "054ed70278544536b60856247401ad7b": {
          "model_module": "@jupyter-widgets/base",
          "model_name": "LayoutModel",
          "model_module_version": "1.2.0",
          "state": {
            "_view_name": "LayoutView",
            "grid_template_rows": null,
            "right": null,
            "justify_content": null,
            "_view_module": "@jupyter-widgets/base",
            "overflow": null,
            "_model_module_version": "1.2.0",
            "_view_count": null,
            "flex_flow": null,
            "width": null,
            "min_width": null,
            "border": null,
            "align_items": null,
            "bottom": null,
            "_model_module": "@jupyter-widgets/base",
            "top": null,
            "grid_column": null,
            "overflow_y": null,
            "overflow_x": null,
            "grid_auto_flow": null,
            "grid_area": null,
            "grid_template_columns": null,
            "flex": null,
            "_model_name": "LayoutModel",
            "justify_items": null,
            "grid_row": null,
            "max_height": null,
            "align_content": null,
            "visibility": null,
            "align_self": null,
            "height": null,
            "min_height": null,
            "padding": null,
            "grid_auto_rows": null,
            "grid_gap": null,
            "max_width": null,
            "order": null,
            "_view_module_version": "1.2.0",
            "grid_template_areas": null,
            "object_position": null,
            "object_fit": null,
            "grid_auto_columns": null,
            "margin": null,
            "display": null,
            "left": null
          }
        },
        "960ede48ccc04b4497d3a6441c80673a": {
          "model_module": "@jupyter-widgets/controls",
          "model_name": "ProgressStyleModel",
          "model_module_version": "1.5.0",
          "state": {
            "_view_name": "StyleView",
            "_model_name": "ProgressStyleModel",
            "description_width": "",
            "_view_module": "@jupyter-widgets/base",
            "_model_module_version": "1.5.0",
            "_view_count": null,
            "_view_module_version": "1.2.0",
            "bar_color": null,
            "_model_module": "@jupyter-widgets/controls"
          }
        },
        "ac5da2f2e30c4c649d7f7d3d096ce119": {
          "model_module": "@jupyter-widgets/base",
          "model_name": "LayoutModel",
          "model_module_version": "1.2.0",
          "state": {
            "_view_name": "LayoutView",
            "grid_template_rows": null,
            "right": null,
            "justify_content": null,
            "_view_module": "@jupyter-widgets/base",
            "overflow": null,
            "_model_module_version": "1.2.0",
            "_view_count": null,
            "flex_flow": null,
            "width": null,
            "min_width": null,
            "border": null,
            "align_items": null,
            "bottom": null,
            "_model_module": "@jupyter-widgets/base",
            "top": null,
            "grid_column": null,
            "overflow_y": null,
            "overflow_x": null,
            "grid_auto_flow": null,
            "grid_area": null,
            "grid_template_columns": null,
            "flex": null,
            "_model_name": "LayoutModel",
            "justify_items": null,
            "grid_row": null,
            "max_height": null,
            "align_content": null,
            "visibility": null,
            "align_self": null,
            "height": null,
            "min_height": null,
            "padding": null,
            "grid_auto_rows": null,
            "grid_gap": null,
            "max_width": null,
            "order": null,
            "_view_module_version": "1.2.0",
            "grid_template_areas": null,
            "object_position": null,
            "object_fit": null,
            "grid_auto_columns": null,
            "margin": null,
            "display": null,
            "left": null
          }
        },
        "055602e111c04d72b04750cdc55cd736": {
          "model_module": "@jupyter-widgets/controls",
          "model_name": "DescriptionStyleModel",
          "model_module_version": "1.5.0",
          "state": {
            "_view_name": "StyleView",
            "_model_name": "DescriptionStyleModel",
            "description_width": "",
            "_view_module": "@jupyter-widgets/base",
            "_model_module_version": "1.5.0",
            "_view_count": null,
            "_view_module_version": "1.2.0",
            "_model_module": "@jupyter-widgets/controls"
          }
        },
        "d710ea7e15fd46e797aaddaea738d06a": {
          "model_module": "@jupyter-widgets/base",
          "model_name": "LayoutModel",
          "model_module_version": "1.2.0",
          "state": {
            "_view_name": "LayoutView",
            "grid_template_rows": null,
            "right": null,
            "justify_content": null,
            "_view_module": "@jupyter-widgets/base",
            "overflow": null,
            "_model_module_version": "1.2.0",
            "_view_count": null,
            "flex_flow": null,
            "width": null,
            "min_width": null,
            "border": null,
            "align_items": null,
            "bottom": null,
            "_model_module": "@jupyter-widgets/base",
            "top": null,
            "grid_column": null,
            "overflow_y": null,
            "overflow_x": null,
            "grid_auto_flow": null,
            "grid_area": null,
            "grid_template_columns": null,
            "flex": null,
            "_model_name": "LayoutModel",
            "justify_items": null,
            "grid_row": null,
            "max_height": null,
            "align_content": null,
            "visibility": null,
            "align_self": null,
            "height": null,
            "min_height": null,
            "padding": null,
            "grid_auto_rows": null,
            "grid_gap": null,
            "max_width": null,
            "order": null,
            "_view_module_version": "1.2.0",
            "grid_template_areas": null,
            "object_position": null,
            "object_fit": null,
            "grid_auto_columns": null,
            "margin": null,
            "display": null,
            "left": null
          }
        }
      }
    }
  },
  "cells": [
    {
      "cell_type": "code",
      "metadata": {
        "colab": {
          "base_uri": "https://localhost:8080/"
        },
        "id": "gHSDaKFJbAzm",
        "outputId": "ac7c9e21-7954-41e3-e6c3-dc495f10e604"
      },
      "source": [
        "from google.colab import drive\n",
        "drive.mount('/content/gdrive')"
      ],
      "execution_count": null,
      "outputs": [
        {
          "output_type": "stream",
          "name": "stdout",
          "text": [
            "Mounted at /content/gdrive\n"
          ]
        }
      ]
    },
    {
      "cell_type": "code",
      "metadata": {
        "id": "lDt7zs0MbTQ-"
      },
      "source": [
        "! pip install git+https://github.com/huggingface/transformers@master"
      ],
      "execution_count": null,
      "outputs": []
    },
    {
      "cell_type": "code",
      "metadata": {
        "colab": {
          "base_uri": "https://localhost:8080/"
        },
        "id": "hIXjx1h7boLk",
        "outputId": "9e0b352d-437d-4f6b-c7fb-a06550fb6c34"
      },
      "source": [
        "! pip install torch"
      ],
      "execution_count": null,
      "outputs": [
        {
          "output_type": "stream",
          "name": "stdout",
          "text": [
            "Requirement already satisfied: torch in /usr/local/lib/python3.7/dist-packages (1.9.0+cu102)\n",
            "Requirement already satisfied: typing-extensions in /usr/local/lib/python3.7/dist-packages (from torch) (3.7.4.3)\n"
          ]
        }
      ]
    },
    {
      "cell_type": "code",
      "metadata": {
        "id": "xmS1-RrLbG9w"
      },
      "source": [
        "# 구글 드라이브에서 모델, 토크나이저 불러오기\n",
        "from transformers import BertTokenizerFast, GPT2LMHeadModel\n",
        "\n",
        "model = GPT2LMHeadModel.from_pretrained('/content/gdrive/MyDrive/model_save/model_batch1')\n",
        "\n",
        "tokenizer = BertTokenizerFast.from_pretrained('/content/gdrive/MyDrive/model_save/model_batch1')\n",
        "input_ids = tokenizer.encode(\"text to tokenize\")[1:]  # CLS token 제거"
      ],
      "execution_count": null,
      "outputs": []
    },
    {
      "cell_type": "code",
      "metadata": {
        "colab": {
          "base_uri": "https://localhost:8080/",
          "height": 257,
          "referenced_widgets": [
            "6e00a7b9807045fda85b214d2431fea2",
            "9e956882dc5f47a0976705c4450ea753",
            "fa97bd23bd0a463e94bac40af9d6933e",
            "b94ee1108d9b4042aa6426d71ec40d10",
            "c278f8ea85ea48a99c5e99e394f85854",
            "1e0bb0b25545416d929944b1ed02d4b0",
            "0b20ca1675cb4ed4a77fded855f916ec",
            "d8a97900141643ada342cad68317c9ee",
            "0e9cf834fec443d19d2c330943bd659c",
            "af177c198e6a4193911211f5a679a26d",
            "0dd4c05ea3d14edb9e485c29bfc4b41d",
            "fcf976a0da354efe9509d774ba036730",
            "5ac9198218a94dbc8e66fe92aac5e841",
            "0e60da5e43d34f4a96663c1663aaf789",
            "6904dc6a34c846fcb2e973090a67f188",
            "96e5542dd6e54ed39403c16a63744e77",
            "790f62cdae134890ad559bc479e7d337",
            "ceb63e63c1c14b25b2c143ebfb88e97f",
            "aaf08bf095a44219a668588456f4a971",
            "04a2bfb0d8b34743819990313dcdacb6",
            "88555979234d4bdabe1099a390f70349",
            "a0903055cdaf41b2a6e32b6c789315b5",
            "cd1a513ff8954f248b88ea8a1cac899a",
            "393c636175fe455da911c1aefdfd1abc",
            "0f0306e04af44866b308e6605d6d3d07",
            "09eb2a31209a484c9691a1b644b27ee9",
            "36b0e6be50c4429f9e062d2772d88b4d",
            "70009758cb8a454c8fa77d057a915100",
            "054ed70278544536b60856247401ad7b",
            "960ede48ccc04b4497d3a6441c80673a",
            "ac5da2f2e30c4c649d7f7d3d096ce119",
            "055602e111c04d72b04750cdc55cd736",
            "d710ea7e15fd46e797aaddaea738d06a"
          ]
        },
        "id": "D5QfGp08bjGi",
        "outputId": "a08cb277-b94c-416a-e35c-0dc3761b3a3f"
      },
      "source": [
        "import torch\n",
        "tokenizer_gpt3 = BertTokenizerFast.from_pretrained(\"kykim/gpt3-kor-small_based_on_gpt2\", \n",
        "                                                   bos_token='<|startoftext|>', \n",
        "                                                   eos_token='<|endoftext|>', \n",
        "                                                   pad_token='<|pad|>')\n",
        "device = torch.device('cuda' if torch.cuda.is_available() else 'cpu')"
      ],
      "execution_count": null,
      "outputs": [
        {
          "output_type": "display_data",
          "data": {
            "application/vnd.jupyter.widget-view+json": {
              "model_id": "6e00a7b9807045fda85b214d2431fea2",
              "version_minor": 0,
              "version_major": 2
            },
            "text/plain": [
              "Downloading:   0%|          | 0.00/344k [00:00<?, ?B/s]"
            ]
          },
          "metadata": {}
        },
        {
          "output_type": "display_data",
          "data": {
            "application/vnd.jupyter.widget-view+json": {
              "model_id": "fcf976a0da354efe9509d774ba036730",
              "version_minor": 0,
              "version_major": 2
            },
            "text/plain": [
              "Downloading:   0%|          | 0.00/82.0 [00:00<?, ?B/s]"
            ]
          },
          "metadata": {}
        },
        {
          "output_type": "display_data",
          "data": {
            "application/vnd.jupyter.widget-view+json": {
              "model_id": "cd1a513ff8954f248b88ea8a1cac899a",
              "version_minor": 0,
              "version_major": 2
            },
            "text/plain": [
              "Downloading:   0%|          | 0.00/615 [00:00<?, ?B/s]"
            ]
          },
          "metadata": {}
        },
        {
          "output_type": "stream",
          "name": "stderr",
          "text": [
            "The tokenizer class you load from this checkpoint is not the same type as the class this function is called from. It may result in unexpected tokenization. \n",
            "The tokenizer class you load from this checkpoint is 'GPT2Tokenizer'. \n",
            "The class this function is called from is 'BertTokenizer'.\n",
            "Special tokens have been added in the vocabulary, make sure the associated word embeddings are fine-tuned or trained.\n",
            "The tokenizer class you load from this checkpoint is not the same type as the class this function is called from. It may result in unexpected tokenization. \n",
            "The tokenizer class you load from this checkpoint is 'GPT2Tokenizer'. \n",
            "The class this function is called from is 'BertTokenizerFast'.\n",
            "Special tokens have been added in the vocabulary, make sure the associated word embeddings are fine-tuned or trained.\n"
          ]
        }
      ]
    },
    {
      "cell_type": "code",
      "metadata": {
        "id": "9faSzmgObNQt"
      },
      "source": [
        "model.eval()\n",
        "\n",
        "def coverletter_generator(text):\n",
        "  prompt = f\"<|startoftext|> {text}\"\n",
        "  generated = torch.tensor(tokenizer_gpt3.encode(prompt)[1:]).unsqueeze(0)\n",
        "  generated = generated.to(device)\n",
        "\n",
        "  print(generated)\n",
        "\n",
        "  sample_outputs = model.generate(\n",
        "                                  generated, \n",
        "                                  do_sample=True,   \n",
        "                                  top_k=50, \n",
        "                                  max_length = 500,\n",
        "                                  top_p=0.95, \n",
        "                                  num_return_sequences=3,\n",
        "                                  repetition_penalty=1.1\n",
        "                                  )\n",
        "\n",
        "  for i, sample_output in enumerate(sample_outputs):\n",
        "    result = \"{}: {}\\n\\n\".format(i, tokenizer_gpt3.decode(sample_output, skip_special_tokens=True))\n",
        "    print(result)\n",
        "  return"
      ],
      "execution_count": null,
      "outputs": []
    },
    {
      "cell_type": "code",
      "metadata": {
        "colab": {
          "base_uri": "https://localhost:8080/"
        },
        "id": "iXZ3aXUUbkzB",
        "outputId": "e9de0ed8-eb76-451b-e7be-63426ade5bf5"
      },
      "source": [
        "coverletter_generator('저의 강점은 ')"
      ],
      "execution_count": null,
      "outputs": [
        {
          "output_type": "stream",
          "name": "stderr",
          "text": [
            "Setting `pad_token_id` to `eos_token_id`:3 for open-end generation.\n"
          ]
        },
        {
          "output_type": "stream",
          "name": "stdout",
          "text": [
            "tensor([[42000, 16972, 38964,  8078,     3]])\n",
            "0: 저의 강점은 식품영양학과 진학 후 처음으로 접한 과목이 식품프로그래밍이었습니다. 교수님께서는 식자재유통업체에서 아르바이트를 하고 있는 학생들을 대상으로 하는 식품영양학과의 수업에선 어떻게 하면 학생들이 식품에 흥미를 가질 수 있을까라는 문제를 알려주셨습니다. 대부분의 학생들이 학년인 저학년들이라 음식을 만드는데 어려움과 관심을 갖지 못한 것이 아닐까 생각해보았습니다. 실제로 저는 학년 때 전공과 관련이 없던 식품영양학을 배우면서 식품에 대해 흥미를 갖게 되었습니다. 이후 전공과목을 더욱 깊이 공부하여 졸업 작품까지 완성해 나갔습니다. 또한 제가 식품영양과에 지원하게 된 가장 큰 이유입니다. 특히 이 직무를 잘 수행하기 위해선 무엇보다 식품에서 필요로 하는 영양성분에 대한 이해도가 필수라고 생각했습니다. 이는 지금까지의 경험 중 식품영양학에 대한 이해도를 가장 높여 줄 것으로 생각합니다. 저는 영양사 자격증을 따기 위해 조리기능장 수업을 신청하였고 약 시간의 짧은 시간에 식품의 전반적인 조리과정을 학습할 수 있었습니다. 또한 식품기사 필기 합격률 를 달성하며 전공성적 또한 합격할 수 있었습니다. 이러한 경험을 통해 저는 식품을 올바르게 이해하고자 하는 태도를 가질 수 있었으며 이는 품질관리 업무를 담당하기에 더욱 적합하다고 생각하였습니다. 제 인생의 가치관은 한 번 더 생각하는 삶입니다. 살면서 아무리 우수한 식당도 그 맛의 정도와 식재료의 상태가 좋지 않다면 그 음식은 고객의 마음을 사로잡지 못하는 것 같습니다. 하지만 이를 개선하고자 항상 노력하며 살다 보니 새로운 분야에서 일을 시작하게 되면 먼저 그 식당을 방문하고 지인들께 정보를 얻어서 저만의 레시피를 익히고 직접 요리를 만들어 보기도 합니다. 이렇듯 저는 늘 좋은 결과를 얻을 수 있다고 생각하며 살아왔습니다. 하지만 이러한 저의 가치관이 조금 더 발전된 삶을 살고 싶다는 생각을 가지게 했습니다. 그래서 저는 한번 더 생각하고 끊임없이 고민하는 삶을 실천하였습니다. 제가 회사를 선택하는 기준도 같은 기업입니다. 하지만 저는 회사가 단순히 수익을 낸다고 안주하지 않고 직원들을 교육하고 더 나은 환경에서 일할 기회를 제공해 주고 싶어 선택합니다. 그리고 제가 가진 역량으로 회사의 발전에 도움이 되고자 합니다. 저의 성장과정은 제가 추구하는 삶의 방향과도 일치합니다. 저희 아버지는 어릴 적부터 어려운 환경 속에서 자란 저를 항상 걱정하셨었고 이러한 환경에서 자라온 저는 아버지께 많은 영향을 받아왔습니다. 어린시절 어머니께서는 혼자 사시는 분들이 많으셨으며 항상 같이 밥을 먹으며 다른 가정 형편과 생활환경이 어느 정도 파악되었고 그런 환경에서 자라온 저에게 힘든 상황에서 먼저 다가서는 방법을 배웠습니다. 하지만 대학 입학 후에도 저를 키워주셨던 부모님의 그늘아래서 저는 남들보다 쉽게 적응하는 것은 물론 친구들과 어울리며 여러 선생님과 친하게\n",
            "\n",
            "\n",
            "1: 저의 강점은 대한민국 no. 기업 cj 올리브네트웍스는 우리나라 no. 인터넷 서비스 회사로 대한민국의 많은 분야에서 가장 많이 사용되고 있습니다. 현재에 안주하지 않고 도전하고 변화하는 끊임없이 변화와 혁신을 추구하는 회사이며 그 정신이 제 가치관과 일맥상통합니다. 또한 it분야의 최고 전문가가 되기 위해 끊임없는 도전과 성장을 이뤄왔다고 생각합니다. 이러한 cj 올리브네트웍스에서 함께 새로운 비전 실현에 저의 직무 역량을 발휘하겠습니다. oo대학교 컴퓨터과학과 학부에서 공학설계 디지털시스템공학 등의 전공과목 수강으로 공학적 지식 함양하였고 이를 바탕으로 졸업논문으로 졸업논문을 작성하였습니다. 또한 공학적 사고와 문제해결능력 개발능력과 같은 인재상에 부합하기 위해 통계학과에서 이론적 기반을 다졌고 통계 관련 과목을 수강하였으며 분석기기인 ansys를 이용한 자동화작업 및 머신러닝 관련 프로젝트를 통해 데이터 수집 및 분석 능력을 배양하였습니다. 아쉬운점 고객과 회사가 만족할 수 있는 서비스를 제공하기 위해 연구하는 cj 올리브네트웍스에서 저 자신을 향상하고 회사의 이익창출에 이바지하겠습니다. 글로벌 top 기업에서 함께 꿈꿀 수 있는 직원이 되겠습니다. 지원 동기 직무 역량이 최고의 선택이다라는 것을 보여주고 싶습니다. 년에 국제학생회 동아리 부회장으로 활동하며 리더십과 책임감을 갖고 다양한 문화를 수용하는 열린 사고를 배울 수 있었습니다. 또한 대학교 축구 소모임 회장으로서 다양한 이벤트를 개최하고 지역별 특성화고 학생들에게 대회참가를 홍보하면서 함께 꿈을 꿀 수 있는 방법을 배울 수 있었습니다. 하지만 저의 단점은 생각이 많다는 것입니다. 생각을 하기만 하면 아무것도 떠오르지 않아 실천하기가 어려운 것이 저의 단점입니다. 저는 이러한 단점을 극복하고자 항상 다이어리에 계획을 세워 시간 약속은 꼭 지키는 습관을 들여왔습니다. 항상 더 나은 삶을 살고자 노력하고 있으며 이러한 습관을 통하여 앞으로 제가 할 일에 대해 더 나아가 미래를 계획할 수 있도록 노력하고 있습니다. 직무 수행을 위한 역량 갖추기 입사 후 어떻게 역량을 키울 것인지를 구체적으로 서술하십시오. 제가 지원하게 된 이유는 cj 올리브 네트웍스가 앞으로 더 많은 ict 신기술을 이용하여 고객들에게 편리한 서비스를 제공할 수 있기 때문입니다. 정보통신 기술 기반의 iot 서비스를 제공하고 있는 cj 올리브네트웍스에서 고객에게 새로운 가치를 제공하는 직무를 수행하고 싶습니다. 먼저 대학교 시절부터 통신관련 공부를 통해 정보통신 정보통신 지식 지식을 함양해 왔습니다. 또한 컴퓨터과학에서의 학문적 학습을 토대로 한 수학을 잘했던 것도 it관련 기술 습득을 위한 노력에 기여한 결과라고 생각합니다. 그래서 제가 생각하는 ict 신기술의 방향성은 크게 두 가지입니다. 첫째 ict 신기술로 새로운 가치 창출입니다.\n",
            "\n",
            "\n",
            "2: 저의 강점은 첫째 커뮤니케이션 능력입니다. 저는 상대방과 의사소통하는 것을 좋아합니다. 항상 상대의 입장에서 생각하며 서로에게 도움이 되는 존재가 되고 싶기 때문입니다. 이런 제 장점은 입사 후 시너지 효과를 낼 수 있다고 생각합니다. 제가 가장 자신 있어 하는 업무는 소통입니다. 특히 마케팅 부서에서 근무할 때 항상 팀에 도움이 되는 일을 하고 싶었고 저의 이러한 장점으로 다른 부서와의 협업에서도 힘을 보태고 싶습니다. 둘째 팀 프로젝트 및 동아리 활동을 통해 다양한 사람들과 어울리며 대인관계 능력을 키웠습니다. 또한 많은 경험을 쌓기 위해 학회 활동 아르바이트를 했습니다. 그리고 대학 시절 다양한 사람들을 만나고 단체 생활을 경험했습니다. 셋째 의사소통 능력입니다. 저는 학교 수업뿐 아니라 학과 행사에서 많은 사람을 만나면서 사람들과의 관계 형성 방법을 배웠고 그 결과 교내 방송국 아나운서로서 학생회와 같은 곳에서 활동하면서 여러 사람과 원활히 소통할 수 있는 능력을 갖추었습니다. 이와 관련된 경험 또는 경력사항을 기술해 주십시오 학교 방송국에서 방송국원으로 처음 년 동안은 많은 사람을 만나면서 커뮤니케이션 역량을 키웠습니다. 학교에서 진행하는 미디어 관련 행사에 참여했고 학년 때는 학부 행사의 진행자 역할을 맡았습니다. 이때 저는 많은 학과 학생들을 만나 그들의 마음을 얻고 그들 속에서 필요한 것을 찾는 데에 노력했고 이를 통해 행사 홍보 및 진행 등 다양한 업무를 맡아 성공적으로 마칠 수 있었습니다. 또한 학생회에서도 다양한 학과 친구들과 함께 행사를 진행한 경험이 있습니다. 방송국의 특성상 많은 전공을 가진 사람들이 모인 만큼 원활한 소통을 위해선 많은 사람이 참석하고 협력하는 자세가 필요하다고 생각했기 때문에 적극적으로 참여하였고 이를 통해 소통 능력을 키울 수 있었습니다. 이처럼 저의 경험을 살려 여러 사람들과 원활하게 소통할 수 있는 직원이 되겠습니다.\n",
            "\n",
            "\n"
          ]
        }
      ]
    },
    {
      "cell_type": "code",
      "metadata": {
        "colab": {
          "base_uri": "https://localhost:8080/"
        },
        "id": "ZvI4rxVGAE-X",
        "outputId": "b3e2d998-76e7-4e85-a593-83ad8bce9c7e"
      },
      "source": [
        "coverletter_generator('저는 자료를 분석하는 능력이 강합니다. ')"
      ],
      "execution_count": null,
      "outputs": [
        {
          "output_type": "stream",
          "name": "stderr",
          "text": [
            "Setting `pad_token_id` to `eos_token_id`:3 for open-end generation.\n"
          ]
        },
        {
          "output_type": "stream",
          "name": "stdout",
          "text": [
            "tensor([[42000, 14156, 21992, 15626, 13975, 21561,  2122, 14015,  2016,     3]])\n",
            "0: 저는 자료를 분석하는 능력이 강합니다. 이러한 장점으로 입사 후 자료 수집 및 분석을 통한 데이터 분석의 중요성 및 개선점 파악에 힘쓰겠습니다. 이를 위해서는 정확한 데이터 분석능력이 필요합니다. 다양한 팀 프로젝트 경험은 저의 강점이며 이러한 역량을 바탕으로 다양한 팀 프로젝트를 진행하였습니다. 대학 강의 중 자료 분석을 통하여 팀 프로젝트를 수행한 적이 있습니다. 이러한 경험을 통해 분석능력을 길렀습니다. oo연구개발협력센터 인턴을 수행하며 기안서 작성 및 연구 방향 제시를 담당하였습니다. 관련 부서의 요청이 있을 경우 이를 토대로 자료를 검토 및 수정하였습니다. 그리고 학회 발표의 주 역할을 맡아 조원들과 소통하고 정보를 공유했습니다.\n",
            "\n",
            "\n",
            "1: 저는 자료를 분석하는 능력이 강합니다. 이러한 역량으로 대학교 학년 때 교내 학술대회에서 최우수상을 수상한 적이 있습니다. 이 대회를 준비한 이유는 교수님께서 년 월에 설립하신 회사에 다닌다고 말씀하셨기 때문입니다. 저는 대학원에서 oooo와 관련된 프로젝트를 한 경험이 있습니다. 년 월에 한국정보처리학회에서 주최하는 oooo의 oo oooo에 참가하여 명의 학우들이 만든 작품을 전시하고 싶었습니다. 당시 연구실에서의 연구는 대부분 컴퓨터를 다루고 있는 학생 위주로 구성되어 있었습니다. 하지만 전시회를 준비하는 입장이었기 때문에 이러한 학생들을 위해 컴퓨터 잡지를 참고하여 프로그래밍된 작품들을 전시하였습니다. 또한 프로그래밍 과목을 통해 컴퓨터 프로그래밍을 경험할 수 있었습니다. 이렇게 저희 작품은 저의 흥미를 끌었습니다. 이후 대학교 학년에는 컴퓨터 프로그래밍 동아리 팀장과 함께 프로그래밍 공모전에 도전해 우수상을 받는 쾌거를 이루었습니다. 그 결과 oooo의 소프트웨어 공모전 우수상인 oooo 캡스톤디자인 경진대회에 참가할 기회를 얻었습니다. 이처럼 통계분석 능력은 정보처리기사 자격증 취득과 데이터마이닝 등 관련 분야에서 업무를 수행하는데 필요한 지식을 빠르게 습득 할 수 있는 강점입니다. 또한 데이터의 수집 및 가공에 관하여 전문성을 갖추고 있어 다양한 방면에 관한 업무 능력을 가지고 있습니다. 위와 같은 능력을 통해 저는 입사 후에 많은 분야에 걸쳐서 프로젝트를 수행할 준비가 되어있습니다.\n",
            "\n",
            "\n",
            "2: 저는 자료를 분석하는 능력이 강합니다. 학교 수업을 들으면서 전공 서적을 통하여 정보를 수집했습니다. 또한 여러 신문 기사를 보면서 다양한 아이디어를 모았습니다. 이러한 정보들을 바탕으로 여러 공모전에 도전하며 아이디어를 더 구체화하고 실제 활용하였습니다. 이를 통해 제가 가진 정보를 어떻게 효과적으로 활용할 수 있는지에 대해 배웠습니다. 저의 장점은 분석력입니다. 대학교 학년 때 프로젝트를 진행할 때 자료조사를 하면서 자료를 수집할 때 어떤 부분을 고려하여 조사하는지 알 수 있었습니다. 예를 들면 졸업 논문 주제를 정할 때 조원들과 함께 몇 시간을 줄다리기하여 그 주제에 대해서 좋은 아이디어가 있다면 그것에 관해 조원의 의견을 최대한 반영하였습니다. 이 활동을 통해 저는 팀 프로젝트를 할 때의 중요성과 중요성을 알 수 있었습니다. 저는 주어진 자료를 분석하고 그에 따라서 다른 팀원들에 대한 평가와 피드백을 하는 것 그리고 마지막으로 보고서 작성을 할 때 분석력을 이용하였습니다. 이처럼 저는 다른 사람과 의사소통을 하고 소통하기 위해 데이터베이스를 활용한 경험이 많습니다. 이는 r 프로그래밍 수업을 수강하면서 가장 중요시했던 데이터베이스에 관한 지식을 쌓는데 도움이 되었습니다. 먼저 저는 다양한 네트워크의 기본인 db를 공부하였습니다. 그리고 많은 프로젝트를 진행하면서 db에서 생기는 트래픽에 대해 학습을 하였고 이를 통해 데이터를 효율적으로 관리하는 방법을 알게 되었습니다. 저는 통계학을 복수전공하였으며 java oracle mvc 및 오라클 하둡과 같은 언어에 대해 공부하였습니다. 또한 ocp 자격증을 취득하였고 현재는 erp 공부를 통하여 웹 및 클라이언트 개발을 하며 웹에서의 데이터 크롤링 기법에 대해 공부하였습니다. 이러한 지식과 경험들을 바탕으로 저는 효율적인 r 프로그래밍 역량과 오픈소스 활용 능력을 개발하는데 기여하겠습니다. 먼저 대학 입학 후 it 프로젝트 기획 및 관리를 위한 실무 능력 향상을 위하여 인턴십을 하였습니다. 이를 통해서 프로젝트 매니저라는 직책을 맡았습니다. 업무를 시작한지 일 정도 되지 않아 신입 직원들에게 많이 부족함을 느꼈고 저 역시도 부족한 부분에 대해 많은 고민을 하였습니다. 그래서 선배님들께서 말씀하신 인턴의 의미를 살려서 좀 더 체계적으로 일을 배우고자 하였습니다. 먼저 모든 업무에 있어서 기초적인 것을 익히면서 일을 배울 것입니다. 또한 프로젝트를 진행하면서 가장 문제가 되는 부분인 프로세스와 시스템 문제를 개선하겠습니다. 이러한 과정을 통해 제가 가진 지식과 경험을 십분 활용하여 맡은 일에 책임감을 느끼고 프로젝트를 완성도 높게 수행해 나갈 수 있도록 하겠습니다. 다음으로는 다른 부서와의 원활한 의사소통이 가능하도록 도움을 주고 싶습니다. 저는 컴퓨터공학 복수전공에서 팀 프로젝트를 진행한 적이 있습니다. 주제는 r 프로그래밍을 통해서 리눅스 기반의 안드로이드 개발로 정하였습니다. 제가 담당한 팀\n",
            "\n",
            "\n"
          ]
        }
      ]
    },
    {
      "cell_type": "code",
      "metadata": {
        "colab": {
          "base_uri": "https://localhost:8080/"
        },
        "id": "mTbEPZmgA9nV",
        "outputId": "49715782-df8c-4a4a-86a9-a445a4f6ef05"
      },
      "source": [
        "coverletter_generator('저의 강점은 소통입니다.')"
      ],
      "execution_count": null,
      "outputs": [
        {
          "output_type": "stream",
          "name": "stderr",
          "text": [
            "Setting `pad_token_id` to `eos_token_id`:3 for open-end generation.\n"
          ]
        },
        {
          "output_type": "stream",
          "name": "stdout",
          "text": [
            "tensor([[42000, 16972, 38964,  8078, 20312, 13992,  2016,     3]])\n",
            "0: 저의 강점은 소통입니다. 제 장점은 항상 상대방의 이야기를 잘 들어주고 공감해주려는 태도입니다. 그래서 다른 사람들에게 긍정적인 기운을 전파해 줄 수 있습니다. 또 이 장점으로 인해 타인을 배려할 줄 알며 남에게 힘이 되어주는 역할을 해낼 수 있었습니다.\n",
            "\n",
            "\n",
            "1: 저의 강점은 소통입니다. 소통능력은 다양한 사람들과의 소통을 통해 좋은 방향으로 나아갈 수 있다고 생각합니다. 저는 대학생활 중 많은 사람을 만나며 소통 능력을 길렀습니다. 이러한 경험을 바탕으로 일원이 되어 보다 좋은 서비스를 제공하고 싶습니다. 이를 위해 먼저 사람들과 원활히 소통할 방법을 찾았습니다. 우선 매주 월요일에 모여서 학교 축제를 홍보하는 동아리 활동을 했습니다. 특히 년 동안 꾸준히 활동해온 동아리는 다양한 사람들 그리고 서로 간의 정보를 공유하는 창구가 되었습니다. 또한 동아리 부회장으로서도 소통하며 많은 사람들과 친해졌습니다. 이를 활용하여 더욱 활성화된 동아리가 될 수 있도록 노력하겠습니다. 마지막으로 다양한 사람들을 만났습니다. 년 때 한 친구가 저희 동아리를 소개하지 않았습니다. 이 사실을 알고 있었던 저는 동아리 홍보를 하기 위해 직접 연락해 도움을 요청했습니다. 동아리원들의 연락처를 알려주고 함께 이야기 나눌 수 있는 자리를 마련해주었습니다. 결국 두 친구와 잘 어울리면서 동아리를 알릴 수 있었습니다. 입사 후에도 고객과 마주하는 영업 사원으로서 열린 마음으로 동료들과 협력하고 고객의 소리를 듣고 문제점을 찾아내고 개선점을 만들어가는 신입사원이 되겠습니다.\n",
            "\n",
            "\n",
            "2: 저의 강점은 소통입니다. 대학교 학년 때 교환학생을 다녀왔습니다. 이 경험으로 저는 다양한 사람들을 만날 수 있었고 그에 대한 이해도가 높다는 것을 깨달았습니다. 또한 저는 사람들과의 소통을 통해 상대방의 의견을 듣고 존중하는 것의 중요성을 배웠습니다. 교환학생 생활을 하며 다양한 사람들을 만나고 그들의 이야기를 경청하면서 좋은 관계를 형성하고 팀워크를 키우는 법을 배웠습니다. 그리고 다양한 사람을 사귀고 서로 이해하고 공감하며 협업하는 방법을 배웠습니다. 특히 해외봉사에서 제가 맡은 역할은 현지 학생들을 가르치는 일이었는데 언어와 문화가 다른 학생들과의 의사소통과 외국어 능력이 부족했습니다. 그래서 교내에서 외국인 친구들과 함께 공부하는 것을 추천했고 이를 통해 원활한 의사소통을 할 수 있었습니다. 또한 교환학생 기간동안 꾸준히 봉사활동에 참여했고 이는 저를 글로벌 인재로 성장시키는 중요한 계기가 되었습니다. 영어는 저의 가장 큰 장점 중 하나이며 국제적인 감각을 기를 수 있는 기회라고 생각합니다. 또 해외경험이 많다는 것도 저에게는 가장 큰 장점이라고 생각합니다. 그뿐만 아니라 다양한 사람들을 만나 대화하며 그 사람과 좋은 관계를 유지하려고 노력하고 있습니다. 외국인 친구들에게 한국어 공부하기라는 과제를 부여한 적이 있는데 저와 친구들은 영어가 아닌 다른 나라의 문화를 배우기 원했습니다. 따라서 저희 학교에는 영어가 가능한 학생들이 모였습니다. 하지만 수업을 듣는 도중 갑자기 영어로 된 중국어 수업이 시작되었고 저는 당황하여 그 수업을 포기하려고 하였습니다. 하지만 저는 포기하지 않았고 오히려 다른 나라 학생들에게 먼저 다가가 중국어를 가르쳐주며 수업내용과 다른 부분이 있는지 물어보며 부족한 점을 채워나갔습니다. 덕분에 성공적으로 수업에 참여할 수 있었고 이 경험을 바탕으로 국제적인 감각도 기르고 외국어 능력을 키웠습니다. 입사 후 빠른 적응력을 위해 끊임없이 고민하겠습니다. 신입사원으로서 필요한 자세와 태도를 견지하겠습니다. 먼저 저는 어떤 환경에서 어떤 방식으로 업무를 수행할 것이며 어떠한 점에서 발전적이고 회사 발전에 기여할 수 있는지 파악하겠습니다. 그러기 위해서 회사의 발전에 최선을 다하는 자세로 임하겠습니다. 다음으로는 제가 담당하는 프로젝트 업무 뿐만 아니라 선배사원들과 교류해 같이 업무를 진행해 나가는 것에 있어 원활하게 소통하기 위해 노력하겠습니다. 또한 회사의 발전과 구성원들의 성장을 위해 제 몫을 다하기 위한 계획을 세우도록 하겠습니다. 물론 이러한 노력들이 곧 업무에 많은 도움을 줄 수는 없겠지만 꾸준한 노력을 한다면 회사의 발전에 도움이 될 것입니다. 그렇기 때문에 저는 후배 사원들이 제 일에 소홀하지 않도록 항상 관심을 갖고 도와주고 함께 업무에 대해 고민을 하는 등 제 업무 뿐만 아니라 후배사원들에게도 신뢰감을 주는 사람이 되기 위해 최선을 다하겠습니다. 글로벌 기업의 핵심경쟁력은 고객 서비스입니다. 자동차와 부품업계는 세계시장의 약 를 점유해 가고 있으며 이런 경쟁속에서 살아남기 위해서는 고객 만족을 실현해야 한다고 생각합니다. 그런 의미에서\n",
            "\n",
            "\n"
          ]
        }
      ]
    }
  ]
}